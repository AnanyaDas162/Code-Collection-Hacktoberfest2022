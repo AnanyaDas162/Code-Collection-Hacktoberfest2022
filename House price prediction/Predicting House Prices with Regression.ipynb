{
 "cells": [
  {
   "cell_type": "markdown",
   "metadata": {
    "pycharm": {
     "name": "#%% md\n"
    }
   },
   "source": [
    "# Task 1: Introduction\n",
    "\n",
    "---\n",
    "\n",
    "For this project, we are going to work on evaluating price of houses given the following features:\n",
    "\n",
    "1. Year of sale of the house\n",
    "2. The age of the house at the time of sale\n",
    "3. Distance from city center\n",
    "4. Number of stores in the locality\n",
    "5. The latitude\n",
    "6. The longitude\n",
    "\n",
    "![Regression](images/regression.png)\n",
    "\n",
    "Note: This notebook uses `python 3` and these packages: `tensorflow`, `pandas`, `matplotlib`, `scikit-learn`."
   ]
  },
  {
   "cell_type": "markdown",
   "metadata": {
    "pycharm": {
     "name": "#%% md\n"
    }
   },
   "source": [
    "## 1.1: Importing Libraries & Helper Functions\n",
    "\n",
    "First of all, we will need to import some libraries and helper functions. This includes TensorFlow and some utility functions that I've written to save time."
   ]
  },
  {
   "cell_type": "code",
   "execution_count": 30,
   "metadata": {
    "pycharm": {
     "name": "#%%\n"
    }
   },
   "outputs": [
    {
     "name": "stdout",
     "output_type": "stream",
     "text": [
      "Libraries imported.\n",
      "<module 'tensorflow._api.v2.version' from 'C:\\\\Users\\\\Nadun\\\\anaconda3\\\\lib\\\\site-packages\\\\tensorflow\\\\_api\\\\v2\\\\version\\\\__init__.py'>\n"
     ]
    }
   ],
   "source": [
    "import numpy as np\n",
    "import pandas as pd\n",
    "import matplotlib.pyplot as plt\n",
    "import tensorflow as tf\n",
    "\n",
    "from utils import *\n",
    "from sklearn.model_selection import train_test_split\n",
    "from tensorflow.keras.models import Sequential\n",
    "from tensorflow.keras.layers import Dense, Dropout\n",
    "from tensorflow.keras.callbacks import EarlyStopping, LambdaCallback\n",
    "\n",
    "%matplotlib inline\n",
    "\n",
    "# tf.logging.set_verbosity(tf.logging.ERROR)\n",
    "tf.compat.v1.logging.set_verbosity(tf.compat.v1.logging.ERROR)\n",
    "print('Libraries imported.')\n",
    "print(tf.version)"
   ]
  },
  {
   "cell_type": "markdown",
   "metadata": {
    "pycharm": {
     "name": "#%% md\n"
    }
   },
   "source": [
    "# Task 2: Importing the Data"
   ]
  },
  {
   "cell_type": "markdown",
   "metadata": {
    "pycharm": {
     "name": "#%% md\n"
    }
   },
   "source": [
    "## 2.1: Importing the Data\n",
    "\n",
    "The dataset is saved in a `data.csv` file. We will use `pandas` to take a look at some of the rows."
   ]
  },
  {
   "cell_type": "code",
   "execution_count": 31,
   "metadata": {
    "pycharm": {
     "name": "#%%\n"
    }
   },
   "outputs": [
    {
     "data": {
      "text/plain": "   serial  date  age  distance  stores  latitude  longitude  price\n0       0  2009   21         9       6        84        121  14264\n1       1  2007    4         2       3        86        121  12032\n2       2  2016   18         3       7        90        120  13560\n3       3  2002   13         2       2        80        128  12029\n4       4  2014   25         5       8        81        122  14157",
      "text/html": "<div>\n<style scoped>\n    .dataframe tbody tr th:only-of-type {\n        vertical-align: middle;\n    }\n\n    .dataframe tbody tr th {\n        vertical-align: top;\n    }\n\n    .dataframe thead th {\n        text-align: right;\n    }\n</style>\n<table border=\"1\" class=\"dataframe\">\n  <thead>\n    <tr style=\"text-align: right;\">\n      <th></th>\n      <th>serial</th>\n      <th>date</th>\n      <th>age</th>\n      <th>distance</th>\n      <th>stores</th>\n      <th>latitude</th>\n      <th>longitude</th>\n      <th>price</th>\n    </tr>\n  </thead>\n  <tbody>\n    <tr>\n      <th>0</th>\n      <td>0</td>\n      <td>2009</td>\n      <td>21</td>\n      <td>9</td>\n      <td>6</td>\n      <td>84</td>\n      <td>121</td>\n      <td>14264</td>\n    </tr>\n    <tr>\n      <th>1</th>\n      <td>1</td>\n      <td>2007</td>\n      <td>4</td>\n      <td>2</td>\n      <td>3</td>\n      <td>86</td>\n      <td>121</td>\n      <td>12032</td>\n    </tr>\n    <tr>\n      <th>2</th>\n      <td>2</td>\n      <td>2016</td>\n      <td>18</td>\n      <td>3</td>\n      <td>7</td>\n      <td>90</td>\n      <td>120</td>\n      <td>13560</td>\n    </tr>\n    <tr>\n      <th>3</th>\n      <td>3</td>\n      <td>2002</td>\n      <td>13</td>\n      <td>2</td>\n      <td>2</td>\n      <td>80</td>\n      <td>128</td>\n      <td>12029</td>\n    </tr>\n    <tr>\n      <th>4</th>\n      <td>4</td>\n      <td>2014</td>\n      <td>25</td>\n      <td>5</td>\n      <td>8</td>\n      <td>81</td>\n      <td>122</td>\n      <td>14157</td>\n    </tr>\n  </tbody>\n</table>\n</div>"
     },
     "execution_count": 31,
     "metadata": {},
     "output_type": "execute_result"
    }
   ],
   "source": [
    "df = pd.read_csv('data.csv',names= column_names)\n",
    "df.head()\n"
   ]
  },
  {
   "cell_type": "markdown",
   "metadata": {
    "pycharm": {
     "name": "#%% md\n"
    }
   },
   "source": [
    "## 2.2: Check Missing Data\n",
    "\n",
    "It's a good practice to check if the data has any missing values. In real world data, this is quite common and must be taken care of before any data pre-processing or model training."
   ]
  },
  {
   "cell_type": "code",
   "execution_count": 32,
   "metadata": {
    "pycharm": {
     "name": "#%%\n"
    }
   },
   "outputs": [
    {
     "data": {
      "text/plain": "serial       0\ndate         0\nage          0\ndistance     0\nstores       0\nlatitude     0\nlongitude    0\nprice        0\ndtype: int64"
     },
     "execution_count": 32,
     "metadata": {},
     "output_type": "execute_result"
    }
   ],
   "source": [
    "df.isna().sum()"
   ]
  },
  {
   "cell_type": "markdown",
   "metadata": {
    "pycharm": {
     "name": "#%% md\n"
    }
   },
   "source": [
    "# Task 3: Data Normalization"
   ]
  },
  {
   "cell_type": "markdown",
   "metadata": {
    "pycharm": {
     "name": "#%% md\n"
    }
   },
   "source": [
    "## 3.1: Data Normalization\n",
    "\n",
    "We can make it easier for optimization algorithms to find minimas by normalizing the data before training a model."
   ]
  },
  {
   "cell_type": "code",
   "execution_count": 33,
   "metadata": {
    "pycharm": {
     "name": "#%%\n"
    }
   },
   "outputs": [
    {
     "data": {
      "text/plain": "       date       age  distance    stores  latitude  longitude     price\n0  0.015978  0.181384  1.257002  0.345224 -0.307212  -1.260799  0.350088\n1 -0.350485 -1.319118 -0.930610 -0.609312  0.325301  -1.260799 -1.836486\n2  1.298598 -0.083410 -0.618094  0.663402  1.590328  -1.576456 -0.339584\n3 -1.266643 -0.524735 -0.930610 -0.927491 -1.572238   0.948803 -1.839425\n4  0.932135  0.534444  0.006938  0.981581 -1.255981  -0.945141  0.245266",
      "text/html": "<div>\n<style scoped>\n    .dataframe tbody tr th:only-of-type {\n        vertical-align: middle;\n    }\n\n    .dataframe tbody tr th {\n        vertical-align: top;\n    }\n\n    .dataframe thead th {\n        text-align: right;\n    }\n</style>\n<table border=\"1\" class=\"dataframe\">\n  <thead>\n    <tr style=\"text-align: right;\">\n      <th></th>\n      <th>date</th>\n      <th>age</th>\n      <th>distance</th>\n      <th>stores</th>\n      <th>latitude</th>\n      <th>longitude</th>\n      <th>price</th>\n    </tr>\n  </thead>\n  <tbody>\n    <tr>\n      <th>0</th>\n      <td>0.015978</td>\n      <td>0.181384</td>\n      <td>1.257002</td>\n      <td>0.345224</td>\n      <td>-0.307212</td>\n      <td>-1.260799</td>\n      <td>0.350088</td>\n    </tr>\n    <tr>\n      <th>1</th>\n      <td>-0.350485</td>\n      <td>-1.319118</td>\n      <td>-0.930610</td>\n      <td>-0.609312</td>\n      <td>0.325301</td>\n      <td>-1.260799</td>\n      <td>-1.836486</td>\n    </tr>\n    <tr>\n      <th>2</th>\n      <td>1.298598</td>\n      <td>-0.083410</td>\n      <td>-0.618094</td>\n      <td>0.663402</td>\n      <td>1.590328</td>\n      <td>-1.576456</td>\n      <td>-0.339584</td>\n    </tr>\n    <tr>\n      <th>3</th>\n      <td>-1.266643</td>\n      <td>-0.524735</td>\n      <td>-0.930610</td>\n      <td>-0.927491</td>\n      <td>-1.572238</td>\n      <td>0.948803</td>\n      <td>-1.839425</td>\n    </tr>\n    <tr>\n      <th>4</th>\n      <td>0.932135</td>\n      <td>0.534444</td>\n      <td>0.006938</td>\n      <td>0.981581</td>\n      <td>-1.255981</td>\n      <td>-0.945141</td>\n      <td>0.245266</td>\n    </tr>\n  </tbody>\n</table>\n</div>"
     },
     "execution_count": 33,
     "metadata": {},
     "output_type": "execute_result"
    }
   ],
   "source": [
    "df=df.iloc[:,1:]\n",
    "df_norm=(df - df.mean())/df.std()\n",
    "df_norm.head()"
   ]
  },
  {
   "cell_type": "markdown",
   "metadata": {
    "pycharm": {
     "name": "#%% md\n"
    }
   },
   "source": [
    "## 3.2: Convert Label Value\n",
    "\n",
    "Because we are using normalized values for the labels, we will get the predictions back from a trained model in the same distribution. So, we need to convert the predicted values back to the original distribution if we want predicted prices."
   ]
  },
  {
   "cell_type": "code",
   "execution_count": 34,
   "metadata": {
    "pycharm": {
     "name": "#%%\n"
    }
   },
   "outputs": [
    {
     "name": "stdout",
     "output_type": "stream",
     "text": [
      "14263\n"
     ]
    }
   ],
   "source": [
    "y_mean=df['price'].mean()\n",
    "y_std=df['price'].std()\n",
    "\n",
    "def convert_label_value(pred):\n",
    "    return int(pred*y_std +y_mean)\n",
    "\n",
    "print(convert_label_value(0.350088))"
   ]
  },
  {
   "cell_type": "markdown",
   "metadata": {
    "pycharm": {
     "name": "#%% md\n"
    }
   },
   "source": [
    "# Task 4: Create Training and Test Sets"
   ]
  },
  {
   "cell_type": "markdown",
   "metadata": {
    "pycharm": {
     "name": "#%% md\n"
    }
   },
   "source": [
    "## 4.1: Select Features\n",
    "\n",
    "Make sure to remove the column __price__ from the list of features as it is the label and should not be used as a feature."
   ]
  },
  {
   "cell_type": "code",
   "execution_count": 35,
   "metadata": {
    "pycharm": {
     "name": "#%%\n"
    }
   },
   "outputs": [
    {
     "data": {
      "text/plain": "       date       age  distance    stores  latitude  longitude\n0  0.015978  0.181384  1.257002  0.345224 -0.307212  -1.260799\n1 -0.350485 -1.319118 -0.930610 -0.609312  0.325301  -1.260799\n2  1.298598 -0.083410 -0.618094  0.663402  1.590328  -1.576456\n3 -1.266643 -0.524735 -0.930610 -0.927491 -1.572238   0.948803\n4  0.932135  0.534444  0.006938  0.981581 -1.255981  -0.945141",
      "text/html": "<div>\n<style scoped>\n    .dataframe tbody tr th:only-of-type {\n        vertical-align: middle;\n    }\n\n    .dataframe tbody tr th {\n        vertical-align: top;\n    }\n\n    .dataframe thead th {\n        text-align: right;\n    }\n</style>\n<table border=\"1\" class=\"dataframe\">\n  <thead>\n    <tr style=\"text-align: right;\">\n      <th></th>\n      <th>date</th>\n      <th>age</th>\n      <th>distance</th>\n      <th>stores</th>\n      <th>latitude</th>\n      <th>longitude</th>\n    </tr>\n  </thead>\n  <tbody>\n    <tr>\n      <th>0</th>\n      <td>0.015978</td>\n      <td>0.181384</td>\n      <td>1.257002</td>\n      <td>0.345224</td>\n      <td>-0.307212</td>\n      <td>-1.260799</td>\n    </tr>\n    <tr>\n      <th>1</th>\n      <td>-0.350485</td>\n      <td>-1.319118</td>\n      <td>-0.930610</td>\n      <td>-0.609312</td>\n      <td>0.325301</td>\n      <td>-1.260799</td>\n    </tr>\n    <tr>\n      <th>2</th>\n      <td>1.298598</td>\n      <td>-0.083410</td>\n      <td>-0.618094</td>\n      <td>0.663402</td>\n      <td>1.590328</td>\n      <td>-1.576456</td>\n    </tr>\n    <tr>\n      <th>3</th>\n      <td>-1.266643</td>\n      <td>-0.524735</td>\n      <td>-0.930610</td>\n      <td>-0.927491</td>\n      <td>-1.572238</td>\n      <td>0.948803</td>\n    </tr>\n    <tr>\n      <th>4</th>\n      <td>0.932135</td>\n      <td>0.534444</td>\n      <td>0.006938</td>\n      <td>0.981581</td>\n      <td>-1.255981</td>\n      <td>-0.945141</td>\n    </tr>\n  </tbody>\n</table>\n</div>"
     },
     "execution_count": 35,
     "metadata": {},
     "output_type": "execute_result"
    }
   ],
   "source": [
    "x=df_norm.iloc[:, :6]\n",
    "x.head()"
   ]
  },
  {
   "cell_type": "markdown",
   "metadata": {
    "pycharm": {
     "name": "#%% md\n"
    }
   },
   "source": [
    "## 4.2: Select Labels"
   ]
  },
  {
   "cell_type": "code",
   "execution_count": 36,
   "metadata": {
    "pycharm": {
     "name": "#%%\n"
    }
   },
   "outputs": [
    {
     "data": {
      "text/plain": "0    0.350088\n1   -1.836486\n2   -0.339584\n3   -1.839425\n4    0.245266\nName: price, dtype: float64"
     },
     "execution_count": 36,
     "metadata": {},
     "output_type": "execute_result"
    }
   ],
   "source": [
    "y =df_norm.iloc[:,-1]\n",
    "y.head()"
   ]
  },
  {
   "cell_type": "markdown",
   "metadata": {
    "pycharm": {
     "name": "#%% md\n"
    }
   },
   "source": [
    "## 4.3: Feature and Label Values\n",
    "\n",
    "We will need to extract just the numeric values for the features and labels as the TensorFlow model will expect just numeric values as input."
   ]
  },
  {
   "cell_type": "code",
   "execution_count": 37,
   "outputs": [
    {
     "name": "stdout",
     "output_type": "stream",
     "text": [
      "(5000, 6)\n",
      "(5000,)\n"
     ]
    }
   ],
   "source": [
    "x_arr=x.values\n",
    "y_arr=y.values\n",
    "\n",
    "print(x_arr.shape)#features\n",
    "print(y_arr.shape)#labels\n"
   ],
   "metadata": {
    "collapsed": false,
    "pycharm": {
     "name": "#%%\n"
    }
   }
  },
  {
   "cell_type": "code",
   "execution_count": 58,
   "metadata": {
    "pycharm": {
     "name": "#%%\n"
    }
   },
   "outputs": [
    {
     "name": "stdout",
     "output_type": "stream",
     "text": [
      "(3350, 6) (3350,)\n",
      "(1650, 6) (1650,)\n"
     ]
    }
   ],
   "source": [
    "x_train,x_test,y_train,y_test=train_test_split(x_arr,y_arr,test_size=0.33, random_state=1)\n",
    "\n",
    "print(x_train.shape,y_train.shape)\n",
    "print(x_test.shape,y_test.shape)"
   ]
  },
  {
   "cell_type": "markdown",
   "metadata": {
    "pycharm": {
     "name": "#%% md\n"
    }
   },
   "source": [
    "## 4.4: Train and Test Split\n",
    "\n",
    "We will keep some part of the data aside as a __test__ set. The model will not use this set during training and it will be used only for checking the performance of the model in trained and un-trained states. This way, we can make sure that we are going in the right direction with our model training."
   ]
  },
  {
   "cell_type": "code",
   "execution_count": 38,
   "metadata": {
    "pycharm": {
     "name": "#%%\n"
    }
   },
   "outputs": [],
   "source": []
  },
  {
   "cell_type": "markdown",
   "metadata": {
    "pycharm": {
     "name": "#%% md\n"
    }
   },
   "source": [
    "# Task 5: Create the Model"
   ]
  },
  {
   "cell_type": "markdown",
   "metadata": {
    "pycharm": {
     "name": "#%% md\n"
    }
   },
   "source": [
    "## 5.1: Create the Model\n",
    "\n",
    "Let's write a function that returns an untrained model of a certain architecture."
   ]
  },
  {
   "cell_type": "code",
   "execution_count": 39,
   "metadata": {
    "pycharm": {
     "name": "#%%\n"
    }
   },
   "outputs": [
    {
     "name": "stdout",
     "output_type": "stream",
     "text": [
      "Model: \"sequential_8\"\n",
      "_________________________________________________________________\n",
      " Layer (type)                Output Shape              Param #   \n",
      "=================================================================\n",
      " layer1 (Dense)              (None, 10)                70        \n",
      "                                                                 \n",
      " layer2 (Dense)              (None, 20)                220       \n",
      "                                                                 \n",
      " layer3 (Dense)              (None, 5)                 105       \n",
      "                                                                 \n",
      " dense_8 (Dense)             (None, 1)                 6         \n",
      "                                                                 \n",
      "=================================================================\n",
      "Total params: 401\n",
      "Trainable params: 401\n",
      "Non-trainable params: 0\n",
      "_________________________________________________________________\n"
     ]
    }
   ],
   "source": [
    "def get_model():\n",
    "    model=Sequential([\n",
    "        Dense(10,input_shape=(6,),activation='relu',kernel_regularizer=tf.keras.regularizers.l2(0.1),name='layer1'),\n",
    "        Dense(20,activation='relu',kernel_regularizer=tf.keras.regularizers.l2(0.1),name='layer2'),\n",
    "        Dense(5,activation='relu',kernel_regularizer=tf.keras.regularizers.l2(0.1),name='layer3'),\n",
    "        Dense(1)\n",
    "    ])\n",
    "    model.compile(\n",
    "        loss='mse',\n",
    "        optimizer='adam'\n",
    "    )\n",
    "    return model\n",
    "get_model().summary()"
   ]
  },
  {
   "cell_type": "markdown",
   "metadata": {
    "pycharm": {
     "name": "#%% md\n"
    }
   },
   "source": [
    "# Task 6: Model Training"
   ]
  },
  {
   "cell_type": "markdown",
   "metadata": {
    "pycharm": {
     "name": "#%% md\n"
    }
   },
   "source": [
    "## 6.1: Model Training\n",
    "\n",
    "We can use an `EarlyStopping` callback from Keras to stop the model training if the validation loss stops decreasing for a few epochs."
   ]
  },
  {
   "cell_type": "code",
   "execution_count": 40,
   "metadata": {
    "pycharm": {
     "name": "#%%\n"
    }
   },
   "outputs": [
    {
     "name": "stdout",
     "output_type": "stream",
     "text": [
      "Epoch 1/100\n",
      "149/149 [==============================] - 3s 11ms/step - loss: 2.5397 - val_loss: 1.5862\n",
      "Epoch 2/100\n",
      "149/149 [==============================] - 1s 9ms/step - loss: 1.2036 - val_loss: 0.7921\n",
      "Epoch 3/100\n",
      "149/149 [==============================] - 1s 9ms/step - loss: 0.6812 - val_loss: 0.5240\n",
      "Epoch 4/100\n",
      "149/149 [==============================] - 1s 9ms/step - loss: 0.4941 - val_loss: 0.4175\n",
      "Epoch 5/100\n",
      "149/149 [==============================] - 1s 9ms/step - loss: 0.4166 - val_loss: 0.3712\n",
      "Epoch 6/100\n",
      "149/149 [==============================] - 1s 9ms/step - loss: 0.3801 - val_loss: 0.3494\n",
      "Epoch 7/100\n",
      "149/149 [==============================] - 1s 9ms/step - loss: 0.3597 - val_loss: 0.3377\n",
      "Epoch 8/100\n",
      "149/149 [==============================] - 1s 9ms/step - loss: 0.3480 - val_loss: 0.3256\n",
      "Epoch 9/100\n",
      "149/149 [==============================] - 1s 9ms/step - loss: 0.3398 - val_loss: 0.3202\n",
      "Epoch 10/100\n",
      "149/149 [==============================] - 1s 9ms/step - loss: 0.3333 - val_loss: 0.3172\n",
      "Epoch 11/100\n",
      "149/149 [==============================] - 1s 9ms/step - loss: 0.3258 - val_loss: 0.3123\n",
      "Epoch 12/100\n",
      "149/149 [==============================] - 1s 9ms/step - loss: 0.3214 - val_loss: 0.3094\n",
      "Epoch 13/100\n",
      "149/149 [==============================] - 1s 9ms/step - loss: 0.3183 - val_loss: 0.3046\n",
      "Epoch 14/100\n",
      "149/149 [==============================] - 1s 9ms/step - loss: 0.3143 - val_loss: 0.3035\n",
      "Epoch 15/100\n",
      "149/149 [==============================] - 1s 9ms/step - loss: 0.3102 - val_loss: 0.3064\n",
      "Epoch 16/100\n",
      "149/149 [==============================] - 1s 9ms/step - loss: 0.3097 - val_loss: 0.2994\n",
      "Epoch 17/100\n",
      "149/149 [==============================] - 1s 9ms/step - loss: 0.3065 - val_loss: 0.2918\n",
      "Epoch 18/100\n",
      "149/149 [==============================] - 1s 9ms/step - loss: 0.3038 - val_loss: 0.2920\n",
      "Epoch 19/100\n",
      "149/149 [==============================] - 1s 9ms/step - loss: 0.3019 - val_loss: 0.2885\n",
      "Epoch 20/100\n",
      "149/149 [==============================] - 1s 9ms/step - loss: 0.2993 - val_loss: 0.2893\n",
      "Epoch 21/100\n",
      "149/149 [==============================] - 1s 9ms/step - loss: 0.2966 - val_loss: 0.2890\n",
      "Epoch 22/100\n",
      "149/149 [==============================] - 1s 9ms/step - loss: 0.2955 - val_loss: 0.2874\n",
      "Epoch 23/100\n",
      "149/149 [==============================] - 1s 9ms/step - loss: 0.2930 - val_loss: 0.2828\n",
      "Epoch 24/100\n",
      "149/149 [==============================] - 1s 9ms/step - loss: 0.2924 - val_loss: 0.2830\n",
      "Epoch 25/100\n",
      "149/149 [==============================] - 1s 9ms/step - loss: 0.2906 - val_loss: 0.2849\n",
      "Epoch 26/100\n",
      "149/149 [==============================] - 1s 9ms/step - loss: 0.2887 - val_loss: 0.2773\n",
      "Epoch 27/100\n",
      "149/149 [==============================] - 1s 9ms/step - loss: 0.2869 - val_loss: 0.2793\n",
      "Epoch 28/100\n",
      "149/149 [==============================] - 1s 9ms/step - loss: 0.2868 - val_loss: 0.2861\n",
      "Epoch 29/100\n",
      "149/149 [==============================] - 1s 9ms/step - loss: 0.2874 - val_loss: 0.2760\n",
      "Epoch 30/100\n",
      "149/149 [==============================] - 1s 9ms/step - loss: 0.2841 - val_loss: 0.2780\n",
      "Epoch 31/100\n",
      "149/149 [==============================] - 1s 9ms/step - loss: 0.2828 - val_loss: 0.2722\n",
      "Epoch 32/100\n",
      "149/149 [==============================] - 1s 9ms/step - loss: 0.2829 - val_loss: 0.2727\n",
      "Epoch 33/100\n",
      "149/149 [==============================] - 1s 9ms/step - loss: 0.2802 - val_loss: 0.2721\n",
      "Epoch 34/100\n",
      "149/149 [==============================] - 1s 9ms/step - loss: 0.2798 - val_loss: 0.2767\n",
      "Epoch 35/100\n",
      "149/149 [==============================] - 1s 9ms/step - loss: 0.2785 - val_loss: 0.2708\n",
      "Epoch 36/100\n",
      "149/149 [==============================] - 1s 9ms/step - loss: 0.2768 - val_loss: 0.2672\n",
      "Epoch 37/100\n",
      "149/149 [==============================] - 1s 9ms/step - loss: 0.2765 - val_loss: 0.2687\n",
      "Epoch 38/100\n",
      "149/149 [==============================] - 1s 9ms/step - loss: 0.2753 - val_loss: 0.2679\n",
      "Epoch 39/100\n",
      "149/149 [==============================] - 1s 9ms/step - loss: 0.2747 - val_loss: 0.2746\n",
      "Epoch 40/100\n",
      "149/149 [==============================] - 1s 9ms/step - loss: 0.2743 - val_loss: 0.2658\n",
      "Epoch 41/100\n",
      "149/149 [==============================] - 1s 9ms/step - loss: 0.2743 - val_loss: 0.2645\n",
      "Epoch 42/100\n",
      "149/149 [==============================] - 1s 9ms/step - loss: 0.2719 - val_loss: 0.2653\n",
      "Epoch 43/100\n",
      "149/149 [==============================] - 1s 9ms/step - loss: 0.2747 - val_loss: 0.2658\n",
      "Epoch 44/100\n",
      "149/149 [==============================] - 1s 9ms/step - loss: 0.2702 - val_loss: 0.2670\n",
      "Epoch 45/100\n",
      "149/149 [==============================] - 1s 9ms/step - loss: 0.2722 - val_loss: 0.2657\n",
      "Epoch 46/100\n",
      "149/149 [==============================] - 1s 9ms/step - loss: 0.2695 - val_loss: 0.2661\n"
     ]
    }
   ],
   "source": [
    "es_cb=EarlyStopping(monitor='val_loss',patience=5)\n",
    "\n",
    "model=get_model()\n",
    "preds_on_untrained=model.predict(x_test)\n",
    "history=model.fit(\n",
    "    x_train,y_train,\n",
    "    validation_data=(x_test,y_test),\n",
    "    epochs=100,\n",
    "    callbacks=[es_cb]\n",
    "\n",
    ")\n"
   ]
  },
  {
   "cell_type": "markdown",
   "metadata": {
    "pycharm": {
     "name": "#%% md\n"
    }
   },
   "source": [
    "## 6.2: Plot Training and Validation Loss\n",
    "\n",
    "Let's use the `plot_loss` helper function to take a look training and validation loss."
   ]
  },
  {
   "cell_type": "code",
   "execution_count": 44,
   "metadata": {
    "pycharm": {
     "name": "#%%\n"
    }
   },
   "outputs": [
    {
     "data": {
      "text/plain": "<Figure size 576x576 with 1 Axes>",
      "image/png": "[encoded data removed]"
     },
     "metadata": {
      "needs_background": "light"
     },
     "output_type": "display_data"
    }
   ],
   "source": [
    "plot_loss(history)"
   ]
  },
  {
   "cell_type": "markdown",
   "metadata": {
    "pycharm": {
     "name": "#%% md\n"
    }
   },
   "source": [
    "# Task 7: Predictions"
   ]
  },
  {
   "cell_type": "markdown",
   "metadata": {
    "pycharm": {
     "name": "#%% md\n"
    }
   },
   "source": [
    "## 7.1: Plot Raw Predictions\n",
    "\n",
    "Let's use the `compare_predictions` helper function to compare predictions from the model when it was untrained and when it was trained."
   ]
  },
  {
   "cell_type": "code",
   "execution_count": 42,
   "metadata": {
    "pycharm": {
     "name": "#%%\n"
    }
   },
   "outputs": [
    {
     "name": "stderr",
     "output_type": "stream",
     "text": [
      "C:\\Users\\Nadun\\anaconda3\\lib\\site-packages\\numpy\\core\\shape_base.py:65: VisibleDeprecationWarning: Creating an ndarray from ragged nested sequences (which is a list-or-tuple of lists-or-tuples-or ndarrays with different lengths or shapes) is deprecated. If you meant to do this, you must specify 'dtype=object' when creating the ndarray.\n",
      "  ary = asanyarray(ary)\n"
     ]
    },
    {
     "data": {
      "text/plain": "<Figure size 576x576 with 1 Axes>",
      "image/png": "[encoded data removed]"
     },
     "metadata": {
      "needs_background": "light"
     },
     "output_type": "display_data"
    }
   ],
   "source": [
    "preds_on_trained =model.predict(x_test)\n",
    "compare_predictions(preds_on_untrained,preds_on_trained,y_test)"
   ]
  },
  {
   "cell_type": "markdown",
   "metadata": {
    "pycharm": {
     "name": "#%% md\n"
    }
   },
   "source": [
    "## 7.2: Plot Price Predictions\n",
    "\n",
    "The plot for price predictions and raw predictions will look the same with just one difference: The x and y axis scale is changed."
   ]
  },
  {
   "cell_type": "code",
   "execution_count": 45,
   "outputs": [
    {
     "data": {
      "text/plain": "<Figure size 576x576 with 1 Axes>",
      "image/png": "[encoded data removed]"
     },
     "metadata": {
      "needs_background": "light"
     },
     "output_type": "display_data"
    }
   ],
   "source": [
    "price_untrained=[convert_label_value(y) for y in preds_on_untrained]\n",
    "price_trained=[convert_label_value(y) for y in preds_on_trained]\n",
    "price_test=[convert_label_value(y)for y in y_test]\n",
    "\n",
    "compare_predictions(price_test,price_trained,price_test)"
   ],
   "metadata": {
    "collapsed": false,
    "pycharm": {
     "name": "#%%\n"
    }
   }
  },
  {
   "cell_type": "code",
   "execution_count": 46,
   "outputs": [
    {
     "data": {
      "text/plain": "   date  age  distance  stores  latitude  longitude  price\n0  2009   21         9       6        84        121  14264\n1  2007    4         2       3        86        121  12032\n2  2016   18         3       7        90        120  13560\n3  2002   13         2       2        80        128  12029\n4  2014   25         5       8        81        122  14157",
      "text/html": "<div>\n<style scoped>\n    .dataframe tbody tr th:only-of-type {\n        vertical-align: middle;\n    }\n\n    .dataframe tbody tr th {\n        vertical-align: top;\n    }\n\n    .dataframe thead th {\n        text-align: right;\n    }\n</style>\n<table border=\"1\" class=\"dataframe\">\n  <thead>\n    <tr style=\"text-align: right;\">\n      <th></th>\n      <th>date</th>\n      <th>age</th>\n      <th>distance</th>\n      <th>stores</th>\n      <th>latitude</th>\n      <th>longitude</th>\n      <th>price</th>\n    </tr>\n  </thead>\n  <tbody>\n    <tr>\n      <th>0</th>\n      <td>2009</td>\n      <td>21</td>\n      <td>9</td>\n      <td>6</td>\n      <td>84</td>\n      <td>121</td>\n      <td>14264</td>\n    </tr>\n    <tr>\n      <th>1</th>\n      <td>2007</td>\n      <td>4</td>\n      <td>2</td>\n      <td>3</td>\n      <td>86</td>\n      <td>121</td>\n      <td>12032</td>\n    </tr>\n    <tr>\n      <th>2</th>\n      <td>2016</td>\n      <td>18</td>\n      <td>3</td>\n      <td>7</td>\n      <td>90</td>\n      <td>120</td>\n      <td>13560</td>\n    </tr>\n    <tr>\n      <th>3</th>\n      <td>2002</td>\n      <td>13</td>\n      <td>2</td>\n      <td>2</td>\n      <td>80</td>\n      <td>128</td>\n      <td>12029</td>\n    </tr>\n    <tr>\n      <th>4</th>\n      <td>2014</td>\n      <td>25</td>\n      <td>5</td>\n      <td>8</td>\n      <td>81</td>\n      <td>122</td>\n      <td>14157</td>\n    </tr>\n  </tbody>\n</table>\n</div>"
     },
     "execution_count": 46,
     "metadata": {},
     "output_type": "execute_result"
    }
   ],
   "source": [
    "df.head()"
   ],
   "metadata": {
    "collapsed": false,
    "pycharm": {
     "name": "#%%\n"
    }
   }
  },
  {
   "cell_type": "code",
   "execution_count": 57,
   "outputs": [
    {
     "data": {
      "text/plain": "13229"
     },
     "execution_count": 57,
     "metadata": {},
     "output_type": "execute_result"
    }
   ],
   "source": [
    "import numpy as np\n",
    "x=np.array([[2015,10,6,4,84,160]])\n",
    "x=(x-x.mean())/x.std()\n",
    "pre=model.predict(x)\n",
    "convert_label_value(pre)"
   ],
   "metadata": {
    "collapsed": false,
    "pycharm": {
     "name": "#%%\n"
    }
   }
  },
  {
   "cell_type": "code",
   "execution_count": 52,
   "outputs": [
    {
     "data": {
      "text/plain": "array([[-1.6331055 , -0.52473452,  0.00693785,  0.34522379,  1.27407102,\n         0.00183081],\n       [ 0.56567221,  0.26964911, -0.61809404,  0.981581  ,  1.59032754,\n        -1.26079862],\n       [-0.16725369,  1.68188666,  0.00693785, -0.29113342,  1.59032754,\n         1.26446025],\n       ...,\n       [ 0.01597778, -0.08341028, -0.61809404,  0.34522379, -1.25598114,\n         0.63314553],\n       [-0.35048517, -1.67217753,  0.9444857 ,  1.2997596 , -0.93972462,\n        -1.57645598],\n       [ 1.11536664,  1.15229758,  1.25700164,  0.02704518, -1.25598114,\n         1.26446025]])"
     },
     "execution_count": 52,
     "metadata": {},
     "output_type": "execute_result"
    }
   ],
   "source": [
    "x_test"
   ],
   "metadata": {
    "collapsed": false,
    "pycharm": {
     "name": "#%%\n"
    }
   }
  },
  {
   "cell_type": "code",
   "execution_count": null,
   "outputs": [],
   "source": [],
   "metadata": {
    "collapsed": false,
    "pycharm": {
     "name": "#%%\n"
    }
   }
  }
 ],
 "metadata": {
  "kernelspec": {
   "display_name": "Python 3",
   "language": "python",
   "name": "python3"
  },
  "language_info": {
   "codemirror_mode": {
    "name": "ipython",
    "version": 3
   },
   "file_extension": ".py",
   "mimetype": "text/x-python",
   "name": "python",
   "nbconvert_exporter": "python",
   "pygments_lexer": "ipython3",
   "version": "3.7.3"
  }
 },
 "nbformat": 4,
 "nbformat_minor": 2
}